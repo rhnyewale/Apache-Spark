{
 "cells": [
  {
   "cell_type": "markdown",
   "metadata": {},
   "source": [
    "# Installation\n",
    "To set up Spark on your own computer and integrate PySpark with Jupyter Notebook. We can use Spark in two modes:\n",
    "\n",
    "* **Local mode**: the entire Spark application runs on a single machine. You'll use local mode to prototype Spark code on your own computer. (This is the easier setup.)\n",
    "* **Cluster mode**: the Spark application runs across multiple machines. You'll use cluster mode when you want to run your Spark application across multiple machines in a cloud environment like Amazon Web Services, Microsoft Azure, or Digital Ocean.\n",
    "\n",
    "We'll cover the instructions for installing Spark in local mode on Windows, Mac, and Linux. We'll cover how to install Spark in cluster mode in the data engineering track.\n",
    "\n",
    "<Img src=\"https://github.com/rhnyewale/Apache-Spark/blob/main/Images/spark_components.jpg?raw=true\">\n",
    "    \n"
   ]
  },
  {
   "cell_type": "markdown",
   "metadata": {},
   "source": [
    "Spark runs on the Java Virtual Machine (JVM), which comes in the Java SE Development Kit (JDK). We recommend installing Java SE Development Kit version 7 or higher, which you can download from Oracle’s website:\n",
    "    \n",
    "* http://www.oracle.com/technetwork/java/javase/downloads/jdk8-downloads-2133151.html\n",
    "   \n",
    "Any version after JDK 7 works, so you can download any of the versions on this page. Select the appropriate installation file for your operating system.\n",
    "    \n",
    "If you're on Windows or Linux, choose the correct instruction set architecture (x86 or x64) for your computer. Each computer chip has a specific instruction set architecture that determines the maximum amount of memory it can work with. The two main types are x86 (32 bit) and x64 (64-bit). If you're not sure which one your computer has, you can find out in this guide if you're on Windows or this one if you're on Linux.\n",
    "\n",
    "To verify that the installation worked, launch your command line application (Command Prompt for Windows and Terminal for Mac and Linux) and run the following:\n",
    "    \n",
    "java -version\n",
    "    \n",
    "The output should be similar to this:\n",
    "    \n",
    "java version \"1.7.0_79\"\n",
    "Java(TM) SE Runtime Environment (build 1.7.0_79-b15)\n",
    "Java HotSpot(TM) 64-Bit Server VM (build 24.79-b02, mixed mode)\n",
    "    \n",
    "While the exact numbers probably won't match, the important thing to verify is that the version is larger than 1.7. This number actually represents Version 7. If you're interested, you can read why at Oracle's website.\n",
    "\n",
    "If running java -version returned an error or a different version than the one you just installed, your Java JDK installation most likely wasn't added to your PATH properly. Read this post to learn more about how to properly add the Java executable to your PATH."
   ]
  },
  {
   "cell_type": "markdown",
   "metadata": {},
   "source": [
    "Now that we have the JVM set up, let's move on to Spark.\n",
    "\n",
    "#"
   ]
  }
 ],
 "metadata": {
  "kernelspec": {
   "display_name": "Python 3",
   "language": "python",
   "name": "python3"
  },
  "language_info": {
   "codemirror_mode": {
    "name": "ipython",
    "version": 3
   },
   "file_extension": ".py",
   "mimetype": "text/x-python",
   "name": "python",
   "nbconvert_exporter": "python",
   "pygments_lexer": "ipython3",
   "version": "3.7.6"
  },
  "toc": {
   "base_numbering": 1,
   "nav_menu": {},
   "number_sections": true,
   "sideBar": true,
   "skip_h1_title": false,
   "title_cell": "Table of Contents",
   "title_sidebar": "Contents",
   "toc_cell": false,
   "toc_position": {},
   "toc_section_display": true,
   "toc_window_display": false
  }
 },
 "nbformat": 4,
 "nbformat_minor": 4
}
